{
 "cells": [
  {
   "cell_type": "code",
   "execution_count": 9,
   "metadata": {},
   "outputs": [
    {
     "name": "stdout",
     "output_type": "stream",
     "text": [
      "Hello world!\n"
     ]
    }
   ],
   "source": [
    "# Exercise 5: What is wrong with the following code:\n",
    "\n",
    "# >>>print 'Hello world!'\n",
    "#File \"\"<stdin>\"\", line 1\n",
    "# print 'Hello world!'\n",
    "\n",
    "\n",
    "# Below is the following proper way to generate the line \"Hello World\"\n",
    "\n",
    "print('Hello world!')\n",
    "\n",
    "# In this exercise, what was missing was the \"()\" after \"print\""
   ]
  },
  {
   "cell_type": "code",
   "execution_count": 3,
   "metadata": {},
   "outputs": [
    {
     "name": "stdout",
     "output_type": "stream",
     "text": [
      "44\n"
     ]
    }
   ],
   "source": [
    "# Exercise 7\n",
    "\n",
    "# What will the following program print out:\n",
    "# x = 43\n",
    "# x = x + 1\n",
    "# print(x)\n",
    "\n",
    "\n",
    "#a) 43\n",
    "#b) 44\n",
    "#c) x + 1\n",
    "#d) Error because x = x + 1 is not possible mathematically\n",
    "\n",
    "\n",
    "x = 43\n",
    "x = x+1\n",
    "print(x)\n",
    "\n",
    "# The result is 44 because you have been re-assigned the value."
   ]
  },
  {
   "cell_type": "code",
   "execution_count": null,
   "metadata": {},
   "outputs": [],
   "source": [
    "# Exercixe 9: How do you fix a \"Syntax Error?\"\n",
    " \n",
    "# \"A syntax error means that you have violated the “grammar” rules of Python\" -(P4E, pg 13)\n",
    "# A syntax error will be highlighted as best possible by Python to try and help you solve it, but it is only a suggestion.\n",
    "# The line that was identified may not be the error and the true error may lie somewhere else in the code. \n",
    "# One must go through and inspect all possible areas of the code to see where the mistake may lie, and test it out. "
   ]
  }
 ],
 "metadata": {
  "kernelspec": {
   "display_name": "Python 3",
   "language": "python",
   "name": "python3"
  },
  "language_info": {
   "codemirror_mode": {
    "name": "ipython",
    "version": 3
   },
   "file_extension": ".py",
   "mimetype": "text/x-python",
   "name": "python",
   "nbconvert_exporter": "python",
   "pygments_lexer": "ipython3",
   "version": "3.6.7"
  }
 },
 "nbformat": 4,
 "nbformat_minor": 2
}
